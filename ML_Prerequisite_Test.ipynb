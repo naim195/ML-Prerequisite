{
 "cells": [
  {
   "cell_type": "markdown",
   "metadata": {
    "id": "sebAoKi64zoG"
   },
   "source": [
    "# Q1"
   ]
  },
  {
   "cell_type": "markdown",
   "metadata": {
    "id": "_Enl7Mp_tNU0"
   },
   "source": [
    "Multiplications needed: $n * m * k$\n",
    "\n",
    "Additions needed: $n*m*(k-1)$\n",
    "\n",
    "We multiply the i<sup>th</sup> row of the $n * k$ matrix (containing k elements) with the j<sup>th</sup> column of the $k*m$ matrix(containing m elements) for obtaining a single element of the final matrix. We need to do this for n rows.\n",
    "So we require k multiplications and k-1 additions to obtain a single element of the final matrix.\n",
    "\n"
   ]
  },
  {
   "cell_type": "markdown",
   "metadata": {
    "id": "hUrAwFyb46bI"
   },
   "source": [
    "# Q2"
   ]
  },
  {
   "cell_type": "code",
   "execution_count": 173,
   "metadata": {
    "colab": {
     "base_uri": "https://localhost:8080/"
    },
    "id": "y1jqXcEawtti",
    "outputId": "6a6564bd-5024-4798-a034-66e5831d95df"
   },
   "outputs": [
    {
     "name": "stdout",
     "output_type": "stream",
     "text": [
      "Array equal test:  True\n",
      "\n",
      "time for list of lists approach 0.02332782745361328\n",
      "time for numpy array approach 0.00015091896057128906\n"
     ]
    }
   ],
   "source": [
    "import numpy as np\n",
    "import time\n",
    "\n",
    "n=30\n",
    "m=20\n",
    "k=10\n",
    "\n",
    "mat1=np.random.randint(1,11,size=(n,k))\n",
    "mat2=np.random.randint(1,11,size=(k,m))\n",
    "\n",
    "a=np.zeros((n,m))\n",
    "\n",
    "t1=time.time()\n",
    "for i in range(n):\n",
    "  for j in range(m):\n",
    "    for l in range(k):\n",
    "      a[i][j]+=mat1[i][l]*mat2[l][j]\n",
    "t2=time.time()\n",
    "\n",
    "t3=time.time()\n",
    "b=np.matmul(mat1,mat2)\n",
    "t4=time.time()\n",
    "\n",
    "print(\"Array equal test: \", np.array_equal(a,b))\n",
    "print()\n",
    "print(\"time for list of lists approach\", (t2-t1))\n",
    "print(\"time for numpy array approach\", (t4-t3))"
   ]
  },
  {
   "cell_type": "markdown",
   "metadata": {
    "id": "j-D3vDX50J4B"
   },
   "source": [
    "Numpy is significantly faster than using the list of lists approach. This is because numpy is written in low-level languages and uses vectorized operations which to perform bulk operations on entire arrays simultaneously. This leads to better performance."
   ]
  },
  {
   "cell_type": "markdown",
   "metadata": {
    "id": "_SjQcST45DeB"
   },
   "source": [
    "# Q3"
   ]
  },
  {
   "cell_type": "markdown",
   "metadata": {
    "id": "x_vpFaO-5Fp2"
   },
   "source": [
    "The time complexity of this method is $O(n^2)$. The code below implements the method as described in the question."
   ]
  },
  {
   "cell_type": "code",
   "execution_count": 174,
   "metadata": {
    "colab": {
     "base_uri": "https://localhost:8080/"
    },
    "id": "KTfFkJFRovT2",
    "outputId": "690c451d-a03d-4f1a-8854-f3cdd6304231"
   },
   "outputs": [
    {
     "name": "stdout",
     "output_type": "stream",
     "text": [
      "Median is:  5\n",
      "Time taken:  0.005884885787963867\n"
     ]
    }
   ],
   "source": [
    "import numpy as np\n",
    "import time\n",
    "\n",
    "n=101\n",
    "arr=np.random.randint(1,11,size=n)\n",
    "\n",
    "t1=time.time()\n",
    "for i in range(n//2+1):\n",
    "  idx=i\n",
    "  for j in range(i+1,n):\n",
    "    if arr[j]<arr[idx]:\n",
    "      idx=j\n",
    "  arr[idx],arr[i]=arr[i],arr[idx]\n",
    "\n",
    "print(\"Median is: \", arr[n//2] if n % 2 != 0 else (arr[n//2 - 1] + arr[n//2]) / 2)\n",
    "\n",
    "t2=time.time()\n",
    "\n",
    "print(\"Time taken: \",(t2-t1))"
   ]
  },
  {
   "cell_type": "markdown",
   "metadata": {
    "id": "XkW6ny4GQicu"
   },
   "source": [
    "A better method is to sort the array and then find out the median. This method has a time complexity of $O(n*log(n))$."
   ]
  },
  {
   "cell_type": "code",
   "execution_count": 175,
   "metadata": {
    "colab": {
     "base_uri": "https://localhost:8080/"
    },
    "id": "Sva1stRcQiAJ",
    "outputId": "3af845e2-c60c-4774-f181-69d805f778e4"
   },
   "outputs": [
    {
     "name": "stdout",
     "output_type": "stream",
     "text": [
      "Median is:  5\n",
      "Time taken:  0.0016543865203857422\n"
     ]
    }
   ],
   "source": [
    "t1=time.time()\n",
    "arr.sort()\n",
    "print(\"Median is: \", arr[n//2] if n % 2 != 0 else (arr[n//2 - 1] + arr[n//2]) / 2)\n",
    "t2=time.time()\n",
    "\n",
    "print(\"Time taken: \",(t2-t1))"
   ]
  },
  {
   "cell_type": "markdown",
   "metadata": {
    "id": "2RfTtpl8RZp9"
   },
   "source": [
    "Using numpy.median()"
   ]
  },
  {
   "cell_type": "code",
   "execution_count": 176,
   "metadata": {
    "colab": {
     "base_uri": "https://localhost:8080/"
    },
    "id": "0sTO3Ez5Rc57",
    "outputId": "562363fc-ba07-4e77-a187-cd67f2fca1ad"
   },
   "outputs": [
    {
     "name": "stdout",
     "output_type": "stream",
     "text": [
      "Median is:  5.0\n",
      "Time taken:  0.0018415451049804688\n"
     ]
    }
   ],
   "source": [
    "t1=time.time()\n",
    "\n",
    "print(\"Median is: \", np.median(arr))\n",
    "t2=time.time()\n",
    "\n",
    "print(\"Time taken: \",(t2-t1))"
   ]
  },
  {
   "cell_type": "markdown",
   "metadata": {
    "id": "wXYtRIXiSYzC"
   },
   "source": [
    "Time taken by numpy is significantly lesser."
   ]
  },
  {
   "cell_type": "markdown",
   "metadata": {
    "id": "UVXxeFpXSfFN"
   },
   "source": [
    "# Q4"
   ]
  },
  {
   "cell_type": "markdown",
   "metadata": {
    "id": "8HTcTj17Wkaw"
   },
   "source": [
    "w.r.t. - with respect to\n",
    "\n",
    "Partial derivative of the function w.r.t. x:\n",
    "$$\n",
    "\\frac{\\partial f}{\\partial x} = 2xy + y^3cos(x)\n",
    "$$\n",
    "\n",
    "Partial derivative of the function w.r.t. y:\n",
    "\n",
    "$$\n",
    "\\frac{\\partial f}{\\partial y} = x^2 + 3y^2sin(x)\n",
    "$$\n",
    "\n",
    "\n"
   ]
  },
  {
   "cell_type": "markdown",
   "metadata": {
    "id": "hMOeG1EzaC1p"
   },
   "source": [
    "# Q5"
   ]
  },
  {
   "cell_type": "code",
   "execution_count": 177,
   "metadata": {
    "colab": {
     "base_uri": "https://localhost:8080/"
    },
    "id": "n9btf_scSenj",
    "outputId": "24a3f8f9-4cc0-4e34-a565-687cbd661a67"
   },
   "outputs": [
    {
     "name": "stdout",
     "output_type": "stream",
     "text": [
      "Comparing Gradients Computed by JAX and Analytical Methods:\n",
      "\n",
      "Gradient with respect to x:\n",
      "  JAX Computed:    2.540302\n",
      "  Analytical:      2.540302\n",
      "\n",
      "Gradient with respect to y:\n",
      "  JAX Computed:    3.524413\n",
      "  Analytical:      3.524413\n"
     ]
    }
   ],
   "source": [
    "from jax import grad\n",
    "import jax.numpy as jnp\n",
    "import numpy as np\n",
    "\n",
    "def fn(x,y):\n",
    "  return x**2*y + y**3*jnp.sin(x)\n",
    "\n",
    "jax_grad=grad(fn,argnums=[0,1])\n",
    "grad_x,grad_y=jax_grad(1.0,1.0)\n",
    "\n",
    "def check_grad(x,y):\n",
    "  grad_x = 2*x*y + y**3*np.cos(x)\n",
    "  grad_y = x**2 + 3*y**2*np.sin(x)\n",
    "  return grad_x, grad_y\n",
    "\n",
    "print(\"Comparing Gradients Computed by JAX and Analytical Methods:\")\n",
    "print()\n",
    "print(f\"Gradient with respect to x:\")\n",
    "print(f\"  JAX Computed:    {grad_x:.6f}\")\n",
    "print(f\"  Analytical:      {check_grad(1.0,1.0)[0]:.6f}\")\n",
    "print()\n",
    "print(f\"Gradient with respect to y:\")\n",
    "print(f\"  JAX Computed:    {grad_y:.6f}\")\n",
    "print(f\"  Analytical:      {check_grad(1.0,1.0)[1]:.6f}\")\n"
   ]
  },
  {
   "cell_type": "markdown",
   "metadata": {
    "id": "Xw0x3iD362Ps"
   },
   "source": [
    "Checking for some more random values:"
   ]
  },
  {
   "cell_type": "code",
   "execution_count": 178,
   "metadata": {
    "colab": {
     "base_uri": "https://localhost:8080/"
    },
    "id": "CsIR0brE67CL",
    "outputId": "b70267da-fce7-42fd-ffe9-22d91f3626dc"
   },
   "outputs": [
    {
     "name": "stdout",
     "output_type": "stream",
     "text": [
      "Random Test Cases:\n",
      "\n",
      "Test Case: x = 3.745401188473625, y = 9.50714306409916\n",
      "\n",
      "Gradient with respect to x:\n",
      "  JAX Computed:    -636.150330\n",
      "  Analytical:      -636.150327\n",
      "\n",
      "Gradient with respect to y:\n",
      "  JAX Computed:    -139.930099\n",
      "  Analytical:      -139.930124\n",
      "\n",
      "\n",
      "Test Case: x = 7.319939418114051, y = 5.986584841970366\n",
      "\n",
      "Gradient with respect to x:\n",
      "  JAX Computed:    196.854645\n",
      "  Analytical:      196.854682\n",
      "\n",
      "Gradient with respect to y:\n",
      "  JAX Computed:    146.127991\n",
      "  Analytical:      146.127987\n",
      "\n",
      "\n",
      "Test Case: x = 1.5601864044243652, y = 1.5599452033620265\n",
      "\n",
      "Gradient with respect to x:\n",
      "  JAX Computed:    4.907885\n",
      "  Analytical:      4.907885\n",
      "\n",
      "Gradient with respect to y:\n",
      "  JAX Computed:    9.734058\n",
      "  Analytical:      9.734058\n",
      "\n",
      "\n"
     ]
    }
   ],
   "source": [
    "def compare_gradients(x_val, y_val):\n",
    "\n",
    "    grad_x, grad_y = jax_grad(x_val, y_val)\n",
    "\n",
    "\n",
    "    grad_x_analytical, grad_y_analytical = check_grad(x_val, y_val)\n",
    "\n",
    "\n",
    "    print(f\"Test Case: x = {x_val}, y = {y_val}\")\n",
    "    print()\n",
    "    print(f\"Gradient with respect to x:\")\n",
    "    print(f\"  JAX Computed:    {grad_x:.6f}\")\n",
    "    print(f\"  Analytical:      {grad_x_analytical:.6f}\")\n",
    "    print()\n",
    "    print(f\"Gradient with respect to y:\")\n",
    "    print(f\"  JAX Computed:    {grad_y:.6f}\")\n",
    "    print(f\"  Analytical:      {grad_y_analytical:.6f}\")\n",
    "    print(\"\\n\")\n",
    "\n",
    "np.random.seed(42)\n",
    "random_test_values = np.random.rand(3, 2) * 10\n",
    "\n",
    "print(\"Random Test Cases:\")\n",
    "print()\n",
    "\n",
    "for x_val, y_val in random_test_values:\n",
    "    compare_gradients(x_val, y_val)\n"
   ]
  },
  {
   "cell_type": "markdown",
   "metadata": {
    "id": "ogWUVTiV7peY"
   },
   "source": [
    "# Q6"
   ]
  },
  {
   "cell_type": "code",
   "execution_count": 179,
   "metadata": {
    "colab": {
     "base_uri": "https://localhost:8080/"
    },
    "id": "CKHleKJx_XEw",
    "outputId": "ea3bff5f-f057-4b22-9f68-b9693cbedd90"
   },
   "outputs": [
    {
     "name": "stdout",
     "output_type": "stream",
     "text": [
      "Gradient with respect to x:  2*x*y + y**3*cos(x)\n",
      "Gradient with respect to y:  x**2 + 3*y**2*sin(x)\n"
     ]
    }
   ],
   "source": [
    "import sympy as sp\n",
    "def fn(x, y):\n",
    "  return x**2*y + y**3*sp.sin(x)\n",
    "\n",
    "x,y=sp.symbols('x y')\n",
    "\n",
    "grad_x=sp.diff(fn(x,y),x)\n",
    "grad_y=sp.diff(fn(x,y),y)\n",
    "\n",
    "print(f\"Gradient with respect to x: \",grad_x)\n",
    "print(f\"Gradient with respect to y: \",grad_y)"
   ]
  },
  {
   "cell_type": "markdown",
   "metadata": {
    "id": "eETofBULEwQg"
   },
   "source": [
    "# Q7"
   ]
  },
  {
   "cell_type": "code",
   "execution_count": 180,
   "metadata": {
    "id": "bESSB17JeMcu"
   },
   "outputs": [],
   "source": [
    "dict={\n",
    "    2022: {\n",
    "        'Branch 1': {\n",
    "            'Roll Number': 1,\n",
    "            'Name': 'N',\n",
    "            'Marks': {\n",
    "                'Maths': 100,\n",
    "                'English': 70\n",
    "            }\n",
    "        },\n",
    "        'Branch 2': {}\n",
    "    },\n",
    "    2023: {\n",
    "        'Branch 1': {},\n",
    "        'Branch 2': {}\n",
    "    },\n",
    "    2024: {\n",
    "        'Branch 1': {},\n",
    "        'Branch 2': {}\n",
    "    },\n",
    "    2025: {\n",
    "        'Branch 1': {},\n",
    "        'Branch 2': {}\n",
    "    }\n",
    "}\n"
   ]
  },
  {
   "cell_type": "code",
   "execution_count": 181,
   "metadata": {
    "colab": {
     "base_uri": "https://localhost:8080/",
     "height": 36
    },
    "id": "-dnl1p5sckWH",
    "outputId": "7068da7b-c7dc-4bbb-a0ea-32fa2f3a02fa"
   },
   "outputs": [
    {
     "data": {
      "application/vnd.google.colaboratory.intrinsic+json": {
       "type": "string"
      },
      "text/plain": [
       "'N'"
      ]
     },
     "execution_count": 181,
     "metadata": {},
     "output_type": "execute_result"
    }
   ],
   "source": [
    "dict[2022][\"Branch 1\"][\"Name\"]"
   ]
  },
  {
   "cell_type": "markdown",
   "metadata": {
    "id": "DVdazJcULfha"
   },
   "source": [
    "# Q8"
   ]
  },
  {
   "cell_type": "code",
   "execution_count": 182,
   "metadata": {
    "colab": {
     "base_uri": "https://localhost:8080/"
    },
    "id": "UnDFvKhnLiBf",
    "outputId": "cc00bc2a-b0d3-4c16-eddd-9f31d7b6c7c8"
   },
   "outputs": [
    {
     "name": "stdout",
     "output_type": "stream",
     "text": [
      "N\n"
     ]
    }
   ],
   "source": [
    "class Student:\n",
    "    def __init__(self, name, roll):\n",
    "        self.name = name\n",
    "        self.roll = roll\n",
    "        self.marks = {}\n",
    "\n",
    "    def add_marks(self,subject,marks):\n",
    "        self.marks[subject] = marks\n",
    "\n",
    "class Branch:\n",
    "    def __init__(self):\n",
    "        self.students = []\n",
    "\n",
    "    def add_student(self,name):\n",
    "        self.students.append(name)\n",
    "\n",
    "class Year:\n",
    "    def __init__(self):\n",
    "        self.years = []\n",
    "\n",
    "    def add_branch(self,branch):\n",
    "        self.years.append(branch)\n",
    "\n",
    "year2022 = Year()\n",
    "branch1_22 = Branch()\n",
    "Student1_b1_22 = Student(\"N\",1)\n",
    "Student1_b1_22.add_marks(\"Maths\",100)\n",
    "Student1_b1_22.add_marks(\"English\",70)\n",
    "branch1_22.add_student(Student1_b1_22)\n",
    "year2022.add_branch(branch1_22)\n",
    "\n",
    "branch2_22 = Branch()\n",
    "year2022.add_branch(branch2_22)\n",
    "\n",
    "year2023 = Year()\n",
    "branch1_23 = Branch()\n",
    "year2023.add_branch(branch1_23)\n",
    "branch2_23 = Branch()\n",
    "year2023.add_branch(branch2_23)\n",
    "\n",
    "year2024 = Year()\n",
    "branch1_24 = Branch()\n",
    "year2024.add_branch(branch1_24)\n",
    "branch2_24 = Branch()\n",
    "year2024.add_branch(branch2_24)\n",
    "\n",
    "\n",
    "year2025 = Year()\n",
    "branch1_25 = Branch()\n",
    "year2025.add_branch(branch1_25)\n",
    "branch2_25 = Branch()\n",
    "year2025.add_branch(branch2_25)\n",
    "\n",
    "database = [year2022, year2023, year2024, year2025]\n",
    "\n",
    "print(database[0].years[0].students[0].name)"
   ]
  },
  {
   "cell_type": "markdown",
   "metadata": {
    "id": "VXlx0ySjhvjr"
   },
   "source": [
    "# Q9"
   ]
  },
  {
   "cell_type": "code",
   "execution_count": 183,
   "metadata": {
    "id": "msVcjmOnhxBS"
   },
   "outputs": [],
   "source": [
    "import numpy as np\n",
    "import matplotlib.pyplot as plt\n",
    "\n",
    "x = np.arange(0.5, 100.5, 0.5)"
   ]
  },
  {
   "cell_type": "markdown",
   "metadata": {
    "id": "oiYBtErSOGXl"
   },
   "source": [
    "### 1."
   ]
  },
  {
   "cell_type": "code",
   "execution_count": 184,
   "metadata": {
    "colab": {
     "base_uri": "https://localhost:8080/",
     "height": 472
    },
    "id": "_7eepeqmOIFR",
    "outputId": "001535c6-cfe8-4c1f-d419-2144c2047823"
   },
   "outputs": [
    {
     "data": {
      "image/png": "[encoded data removed]",
      "text/plain": [
       "<Figure size 640x480 with 1 Axes>"
      ]
     },
     "metadata": {},
     "output_type": "display_data"
    }
   ],
   "source": [
    "y = x\n",
    "\n",
    "plt.figure()\n",
    "plt.plot(x, y, label='y = x')\n",
    "plt.xlabel('x')\n",
    "plt.ylabel('y')\n",
    "plt.title('Plot of y = x')\n",
    "plt.legend()\n",
    "plt.show()"
   ]
  },
  {
   "cell_type": "markdown",
   "metadata": {
    "id": "kw1keMLcONHz"
   },
   "source": [
    "### 2."
   ]
  },
  {
   "cell_type": "code",
   "execution_count": 185,
   "metadata": {
    "colab": {
     "base_uri": "https://localhost:8080/",
     "height": 472
    },
    "id": "nnebCxdvOOca",
    "outputId": "4e6bfc88-2c67-4d15-836c-9c27a9aba1fc"
   },
   "outputs": [
    {
     "data": {
      "image/png": "[encoded data removed]",
      "text/plain": [
       "<Figure size 640x480 with 1 Axes>"
      ]
     },
     "metadata": {},
     "output_type": "display_data"
    }
   ],
   "source": [
    "y = x**2\n",
    "\n",
    "plt.figure()\n",
    "plt.plot(x, y, label='y = x^2')\n",
    "plt.xlabel('x')\n",
    "plt.ylabel('y')\n",
    "plt.title('Plot of y = x^2')\n",
    "plt.legend()\n",
    "plt.show()"
   ]
  },
  {
   "cell_type": "markdown",
   "metadata": {
    "id": "HWrBVHrmOWGD"
   },
   "source": [
    "### 3."
   ]
  },
  {
   "cell_type": "code",
   "execution_count": 186,
   "metadata": {
    "colab": {
     "base_uri": "https://localhost:8080/",
     "height": 472
    },
    "id": "pPcr0hKUOXn3",
    "outputId": "afe0efc7-5d14-4193-e5ea-2df9e2974c3b"
   },
   "outputs": [
    {
     "data": {
      "image/png": "[encoded data removed]",
      "text/plain": [
       "<Figure size 640x480 with 1 Axes>"
      ]
     },
     "metadata": {},
     "output_type": "display_data"
    }
   ],
   "source": [
    "y = x**3/100\n",
    "\n",
    "plt.figure()\n",
    "plt.plot(x, y, label='y = x^3/100')\n",
    "plt.xlabel('x')\n",
    "plt.ylabel('y')\n",
    "plt.title('Plot of y = x^3/100')\n",
    "plt.legend()\n",
    "plt.show()"
   ]
  },
  {
   "cell_type": "markdown",
   "metadata": {
    "id": "HwIsAGAgOZIE"
   },
   "source": [
    "### 4."
   ]
  },
  {
   "cell_type": "code",
   "execution_count": 187,
   "metadata": {
    "colab": {
     "base_uri": "https://localhost:8080/",
     "height": 472
    },
    "id": "owFcPZO1OaYo",
    "outputId": "e020af10-c385-496f-9672-9a95c91541c5"
   },
   "outputs": [
    {
     "data": {
      "image/png": "[encoded data removed]",
      "text/plain": [
       "<Figure size 640x480 with 1 Axes>"
      ]
     },
     "metadata": {},
     "output_type": "display_data"
    }
   ],
   "source": [
    "y = np.sin(x)\n",
    "\n",
    "plt.figure()\n",
    "plt.plot(x, y, label='y = sin(x)')\n",
    "plt.xlabel('x')\n",
    "plt.ylabel('y')\n",
    "plt.title('Plot of y = sin(x)')\n",
    "plt.legend()\n",
    "plt.show()"
   ]
  },
  {
   "cell_type": "markdown",
   "metadata": {
    "id": "EfBh6KDAOc1F"
   },
   "source": [
    "### 5."
   ]
  },
  {
   "cell_type": "code",
   "execution_count": 188,
   "metadata": {
    "colab": {
     "base_uri": "https://localhost:8080/",
     "height": 472
    },
    "id": "g-H-eCq5OefA",
    "outputId": "a09e2658-9301-414e-b6d6-8f3abeb7b000"
   },
   "outputs": [
    {
     "data": {
      "image/png": "[encoded data removed]",
      "text/plain": [
       "<Figure size 640x480 with 1 Axes>"
      ]
     },
     "metadata": {},
     "output_type": "display_data"
    }
   ],
   "source": [
    "y = np.sin(x)/x\n",
    "\n",
    "plt.figure()\n",
    "plt.plot(x, y, label='y = sin(x)/x')\n",
    "plt.xlabel('x')\n",
    "plt.ylabel('y')\n",
    "plt.title('Plot of y = sin(x)/x')\n",
    "plt.legend()\n",
    "plt.show()"
   ]
  },
  {
   "cell_type": "markdown",
   "metadata": {
    "id": "AxM-ai7gOjRS"
   },
   "source": [
    "### 6."
   ]
  },
  {
   "cell_type": "code",
   "execution_count": 189,
   "metadata": {
    "colab": {
     "base_uri": "https://localhost:8080/",
     "height": 472
    },
    "id": "rUmbh_AfOkid",
    "outputId": "ca7e8106-c22c-406c-b2ba-391a5ab12aba"
   },
   "outputs": [
    {
     "data": {
      "image/png": "[encoded data removed]",
      "text/plain": [
       "<Figure size 640x480 with 1 Axes>"
      ]
     },
     "metadata": {},
     "output_type": "display_data"
    }
   ],
   "source": [
    "y = np.log(x)\n",
    "\n",
    "plt.figure()\n",
    "plt.plot(x, y, label='y = log(x)')\n",
    "plt.xlabel('x')\n",
    "plt.ylabel('y')\n",
    "plt.title('Plot of y = log(x)')\n",
    "plt.legend()\n",
    "plt.show()"
   ]
  },
  {
   "cell_type": "markdown",
   "metadata": {
    "id": "4zRwYVqoOmGp"
   },
   "source": [
    "### 7."
   ]
  },
  {
   "cell_type": "code",
   "execution_count": 190,
   "metadata": {
    "colab": {
     "base_uri": "https://localhost:8080/",
     "height": 472
    },
    "id": "PU01lAi4OnD-",
    "outputId": "02ec53b8-671e-4dae-8343-fbd9445e0c21"
   },
   "outputs": [
    {
     "data": {
      "image/png": "[encoded data removed]",
      "text/plain": [
       "<Figure size 640x480 with 1 Axes>"
      ]
     },
     "metadata": {},
     "output_type": "display_data"
    }
   ],
   "source": [
    "y = np.exp(x)\n",
    "\n",
    "plt.figure()\n",
    "plt.plot(x, y, label='y = e^x')\n",
    "plt.xlabel('x')\n",
    "plt.ylabel('y')\n",
    "plt.title('Plot of y = e^x')\n",
    "plt.legend()\n",
    "plt.show()"
   ]
  },
  {
   "cell_type": "markdown",
   "metadata": {
    "id": "fho0ypVfOpCc"
   },
   "source": [
    "# Q10"
   ]
  },
  {
   "cell_type": "code",
   "execution_count": 191,
   "metadata": {
    "colab": {
     "base_uri": "https://localhost:8080/"
    },
    "id": "Ofp2w92UOqFO",
    "outputId": "53ee043b-6f29-4c3a-f932-457106ba91ec"
   },
   "outputs": [
    {
     "name": "stdout",
     "output_type": "stream",
     "text": [
      "           a         b         c         d         e\n",
      "0   1.058084  1.866176  1.601115  1.708073  1.020584\n",
      "1   1.969910  1.832443  1.212339  1.181825  1.183405\n",
      "2   1.304242  1.524756  1.431945  1.291229  1.611853\n",
      "3   1.139494  1.292145  1.366362  1.456070  1.785176\n",
      "4   1.199674  1.514234  1.592415  1.046450  1.607545\n",
      "5   1.170524  1.065052  1.948886  1.965632  1.808397\n",
      "6   1.304614  1.097672  1.684233  1.440152  1.122038\n",
      "7   1.495177  1.034389  1.909320  1.258780  1.662522\n",
      "8   1.311711  1.520068  1.546710  1.184854  1.969585\n",
      "9   1.775133  1.939499  1.894827  1.597900  1.921874\n",
      "10  1.088493  1.195983  1.045227  1.325330  1.388677\n",
      "11  1.271349  1.828738  1.356753  1.280935  1.542696\n",
      "12  1.140924  1.802197  1.074551  1.986887  1.772245\n",
      "13  1.198716  1.005522  1.815461  1.706857  1.729007\n",
      "14  1.771270  1.074045  1.358466  1.115869  1.863103\n",
      "15  1.623298  1.330898  1.063558  1.310982  1.325183\n",
      "16  1.729606  1.637557  1.887213  1.472215  1.119594\n",
      "17  1.713245  1.760785  1.561277  1.770967  1.493796\n",
      "18  1.522733  1.427541  1.025419  1.107891  1.031429\n",
      "19  1.636410  1.314356  1.508571  1.907566  1.249292\n"
     ]
    }
   ],
   "source": [
    "import numpy as np\n",
    "import pandas as pd\n",
    "\n",
    "arr = np.random.uniform(1,2,size=(20,5))\n",
    "\n",
    "df = pd.DataFrame(arr)\n",
    "df.columns=[\"a\",\"b\",\"c\",\"d\",\"e\"]\n",
    "\n",
    "print(df)"
   ]
  },
  {
   "cell_type": "code",
   "execution_count": 192,
   "metadata": {
    "colab": {
     "base_uri": "https://localhost:8080/"
    },
    "id": "t4RqU3xBbRK4",
    "outputId": "eb12d01e-e08c-4e9c-bca5-7ac6d40d6dc8"
   },
   "outputs": [
    {
     "name": "stdout",
     "output_type": "stream",
     "text": [
      "Standard deviation of all columns\n",
      " a    0.276808\n",
      "b    0.314495\n",
      "c    0.306230\n",
      "d    0.297347\n",
      "e    0.310052\n",
      "dtype: float64\n",
      "\n",
      "Maximum standard deviation among all columns: b\n"
     ]
    }
   ],
   "source": [
    "print(\"Standard deviation of all columns\\n\",df.std())\n",
    "print(\"\\nMaximum standard deviation among all columns:\",df.std().idxmax())\n"
   ]
  },
  {
   "cell_type": "code",
   "execution_count": 193,
   "metadata": {
    "colab": {
     "base_uri": "https://localhost:8080/"
    },
    "id": "vZe8IC0NdS5T",
    "outputId": "d5da2a4c-df9d-48ac-ca25-db7005adb2dc"
   },
   "outputs": [
    {
     "name": "stdout",
     "output_type": "stream",
     "text": [
      "Mean of all rows:\n",
      " 0     1.450806\n",
      "1     1.475984\n",
      "2     1.432805\n",
      "3     1.407849\n",
      "4     1.392064\n",
      "5     1.591698\n",
      "6     1.329742\n",
      "7     1.472038\n",
      "8     1.506586\n",
      "9     1.825847\n",
      "10    1.208742\n",
      "11    1.456094\n",
      "12    1.555361\n",
      "13    1.491113\n",
      "14    1.436551\n",
      "15    1.330784\n",
      "16    1.569237\n",
      "17    1.660014\n",
      "18    1.223003\n",
      "19    1.523239\n",
      "dtype: float64\n",
      "\n",
      "Lowest mean is in row: 9\n"
     ]
    }
   ],
   "source": [
    "print(\"Mean of all rows:\\n\",df.mean(axis=1))\n",
    "print(\"\\nLowest mean is in row:\",df.mean(axis=1).idxmax())"
   ]
  },
  {
   "cell_type": "markdown",
   "metadata": {
    "id": "j6HspQ1ad3M_"
   },
   "source": [
    "#Q11"
   ]
  },
  {
   "cell_type": "code",
   "execution_count": 194,
   "metadata": {
    "colab": {
     "base_uri": "https://localhost:8080/",
     "height": 676
    },
    "id": "5JE7mgi9dWyt",
    "outputId": "4a6d12f2-fd05-4d43-8e59-783ac277ebc7"
   },
   "outputs": [
    {
     "data": {
      "application/vnd.google.colaboratory.intrinsic+json": {
       "summary": "{\n  \"name\": \"df\",\n  \"rows\": 20,\n  \"fields\": [\n    {\n      \"column\": \"a\",\n      \"properties\": {\n        \"dtype\": \"number\",\n        \"std\": 0.2768081380504058,\n        \"min\": 1.0580836121681996,\n        \"max\": 1.9699098521619942,\n        \"num_unique_values\": 20,\n        \"samples\": [\n          1.0580836121681996,\n          1.713244787222995,\n          1.623298126827558\n        ],\n        \"semantic_type\": \"\",\n        \"description\": \"\"\n      }\n    },\n    {\n      \"column\": \"b\",\n      \"properties\": {\n        \"dtype\": \"number\",\n        \"std\": 0.31449468509336714,\n        \"min\": 1.0055221171236024,\n        \"max\": 1.9394989415641892,\n        \"num_unique_values\": 20,\n        \"samples\": [\n          1.866176145774935,\n          1.7607850486168974,\n          1.3308980248526492\n        ],\n        \"semantic_type\": \"\",\n        \"description\": \"\"\n      }\n    },\n    {\n      \"column\": \"c\",\n      \"properties\": {\n        \"dtype\": \"number\",\n        \"std\": 0.3062296835581504,\n        \"min\": 1.025419126744095,\n        \"max\": 1.9488855372533331,\n        \"num_unique_values\": 20,\n        \"samples\": [\n          1.6011150117432087,\n          1.5612771975694963,\n          1.0635583502860237\n        ],\n        \"semantic_type\": \"\",\n        \"description\": \"\"\n      }\n    },\n    {\n      \"column\": \"d\",\n      \"properties\": {\n        \"dtype\": \"number\",\n        \"std\": 0.2973470892827051,\n        \"min\": 1.0464504127199978,\n        \"max\": 1.9868869366005173,\n        \"num_unique_values\": 20,\n        \"samples\": [\n          1.7080725777960455,\n          1.770967179954561,\n          1.3109823217156622\n        ],\n        \"semantic_type\": \"\",\n        \"description\": \"\"\n      }\n    },\n    {\n      \"column\": \"e\",\n      \"properties\": {\n        \"dtype\": \"number\",\n        \"std\": 0.3100524801567084,\n        \"min\": 1.0205844942958024,\n        \"max\": 1.9695846277645586,\n        \"num_unique_values\": 20,\n        \"samples\": [\n          1.0205844942958024,\n          1.4937955963643907,\n          1.325183322026747\n        ],\n        \"semantic_type\": \"\",\n        \"description\": \"\"\n      }\n    },\n    {\n      \"column\": \"f\",\n      \"properties\": {\n        \"dtype\": \"number\",\n        \"std\": 0.7075445574237211,\n        \"min\": 6.04371027383435,\n        \"max\": 9.129233329187155,\n        \"num_unique_values\": 20,\n        \"samples\": [\n          7.2540318417781915,\n          8.30006980972834,\n          6.653920145708639\n        ],\n        \"semantic_type\": \"\",\n        \"description\": \"\"\n      }\n    }\n  ]\n}",
       "type": "dataframe",
       "variable_name": "df"
      },
      "text/html": [
       "\n",
       "  <div id=\"df-46c9456a-4d90-4b9c-9188-eff1bdd8f893\" class=\"colab-df-container\">\n",
       "    <div>\n",
       "<style scoped>\n",
       "    .dataframe tbody tr th:only-of-type {\n",
       "        vertical-align: middle;\n",
       "    }\n",
       "\n",
       "    .dataframe tbody tr th {\n",
       "        vertical-align: top;\n",
       "    }\n",
       "\n",
       "    .dataframe thead th {\n",
       "        text-align: right;\n",
       "    }\n",
       "</style>\n",
       "<table border=\"1\" class=\"dataframe\">\n",
       "  <thead>\n",
       "    <tr style=\"text-align: right;\">\n",
       "      <th></th>\n",
       "      <th>a</th>\n",
       "      <th>b</th>\n",
       "      <th>c</th>\n",
       "      <th>d</th>\n",
       "      <th>e</th>\n",
       "      <th>f</th>\n",
       "    </tr>\n",
       "  </thead>\n",
       "  <tbody>\n",
       "    <tr>\n",
       "      <th>0</th>\n",
       "      <td>1.058084</td>\n",
       "      <td>1.866176</td>\n",
       "      <td>1.601115</td>\n",
       "      <td>1.708073</td>\n",
       "      <td>1.020584</td>\n",
       "      <td>7.254032</td>\n",
       "    </tr>\n",
       "    <tr>\n",
       "      <th>1</th>\n",
       "      <td>1.969910</td>\n",
       "      <td>1.832443</td>\n",
       "      <td>1.212339</td>\n",
       "      <td>1.181825</td>\n",
       "      <td>1.183405</td>\n",
       "      <td>7.379921</td>\n",
       "    </tr>\n",
       "    <tr>\n",
       "      <th>2</th>\n",
       "      <td>1.304242</td>\n",
       "      <td>1.524756</td>\n",
       "      <td>1.431945</td>\n",
       "      <td>1.291229</td>\n",
       "      <td>1.611853</td>\n",
       "      <td>7.164026</td>\n",
       "    </tr>\n",
       "    <tr>\n",
       "      <th>3</th>\n",
       "      <td>1.139494</td>\n",
       "      <td>1.292145</td>\n",
       "      <td>1.366362</td>\n",
       "      <td>1.456070</td>\n",
       "      <td>1.785176</td>\n",
       "      <td>7.039246</td>\n",
       "    </tr>\n",
       "    <tr>\n",
       "      <th>4</th>\n",
       "      <td>1.199674</td>\n",
       "      <td>1.514234</td>\n",
       "      <td>1.592415</td>\n",
       "      <td>1.046450</td>\n",
       "      <td>1.607545</td>\n",
       "      <td>6.960318</td>\n",
       "    </tr>\n",
       "    <tr>\n",
       "      <th>5</th>\n",
       "      <td>1.170524</td>\n",
       "      <td>1.065052</td>\n",
       "      <td>1.948886</td>\n",
       "      <td>1.965632</td>\n",
       "      <td>1.808397</td>\n",
       "      <td>7.958491</td>\n",
       "    </tr>\n",
       "    <tr>\n",
       "      <th>6</th>\n",
       "      <td>1.304614</td>\n",
       "      <td>1.097672</td>\n",
       "      <td>1.684233</td>\n",
       "      <td>1.440152</td>\n",
       "      <td>1.122038</td>\n",
       "      <td>6.648710</td>\n",
       "    </tr>\n",
       "    <tr>\n",
       "      <th>7</th>\n",
       "      <td>1.495177</td>\n",
       "      <td>1.034389</td>\n",
       "      <td>1.909320</td>\n",
       "      <td>1.258780</td>\n",
       "      <td>1.662522</td>\n",
       "      <td>7.360188</td>\n",
       "    </tr>\n",
       "    <tr>\n",
       "      <th>8</th>\n",
       "      <td>1.311711</td>\n",
       "      <td>1.520068</td>\n",
       "      <td>1.546710</td>\n",
       "      <td>1.184854</td>\n",
       "      <td>1.969585</td>\n",
       "      <td>7.532928</td>\n",
       "    </tr>\n",
       "    <tr>\n",
       "      <th>9</th>\n",
       "      <td>1.775133</td>\n",
       "      <td>1.939499</td>\n",
       "      <td>1.894827</td>\n",
       "      <td>1.597900</td>\n",
       "      <td>1.921874</td>\n",
       "      <td>9.129233</td>\n",
       "    </tr>\n",
       "    <tr>\n",
       "      <th>10</th>\n",
       "      <td>1.088493</td>\n",
       "      <td>1.195983</td>\n",
       "      <td>1.045227</td>\n",
       "      <td>1.325330</td>\n",
       "      <td>1.388677</td>\n",
       "      <td>6.043710</td>\n",
       "    </tr>\n",
       "    <tr>\n",
       "      <th>11</th>\n",
       "      <td>1.271349</td>\n",
       "      <td>1.828738</td>\n",
       "      <td>1.356753</td>\n",
       "      <td>1.280935</td>\n",
       "      <td>1.542696</td>\n",
       "      <td>7.280470</td>\n",
       "    </tr>\n",
       "    <tr>\n",
       "      <th>12</th>\n",
       "      <td>1.140924</td>\n",
       "      <td>1.802197</td>\n",
       "      <td>1.074551</td>\n",
       "      <td>1.986887</td>\n",
       "      <td>1.772245</td>\n",
       "      <td>7.776804</td>\n",
       "    </tr>\n",
       "    <tr>\n",
       "      <th>13</th>\n",
       "      <td>1.198716</td>\n",
       "      <td>1.005522</td>\n",
       "      <td>1.815461</td>\n",
       "      <td>1.706857</td>\n",
       "      <td>1.729007</td>\n",
       "      <td>7.455564</td>\n",
       "    </tr>\n",
       "    <tr>\n",
       "      <th>14</th>\n",
       "      <td>1.771270</td>\n",
       "      <td>1.074045</td>\n",
       "      <td>1.358466</td>\n",
       "      <td>1.115869</td>\n",
       "      <td>1.863103</td>\n",
       "      <td>7.182753</td>\n",
       "    </tr>\n",
       "    <tr>\n",
       "      <th>15</th>\n",
       "      <td>1.623298</td>\n",
       "      <td>1.330898</td>\n",
       "      <td>1.063558</td>\n",
       "      <td>1.310982</td>\n",
       "      <td>1.325183</td>\n",
       "      <td>6.653920</td>\n",
       "    </tr>\n",
       "    <tr>\n",
       "      <th>16</th>\n",
       "      <td>1.729606</td>\n",
       "      <td>1.637557</td>\n",
       "      <td>1.887213</td>\n",
       "      <td>1.472215</td>\n",
       "      <td>1.119594</td>\n",
       "      <td>7.846186</td>\n",
       "    </tr>\n",
       "    <tr>\n",
       "      <th>17</th>\n",
       "      <td>1.713245</td>\n",
       "      <td>1.760785</td>\n",
       "      <td>1.561277</td>\n",
       "      <td>1.770967</td>\n",
       "      <td>1.493796</td>\n",
       "      <td>8.300070</td>\n",
       "    </tr>\n",
       "    <tr>\n",
       "      <th>18</th>\n",
       "      <td>1.522733</td>\n",
       "      <td>1.427541</td>\n",
       "      <td>1.025419</td>\n",
       "      <td>1.107891</td>\n",
       "      <td>1.031429</td>\n",
       "      <td>6.115014</td>\n",
       "    </tr>\n",
       "    <tr>\n",
       "      <th>19</th>\n",
       "      <td>1.636410</td>\n",
       "      <td>1.314356</td>\n",
       "      <td>1.508571</td>\n",
       "      <td>1.907566</td>\n",
       "      <td>1.249292</td>\n",
       "      <td>7.616196</td>\n",
       "    </tr>\n",
       "  </tbody>\n",
       "</table>\n",
       "</div>\n",
       "    <div class=\"colab-df-buttons\">\n",
       "\n",
       "  <div class=\"colab-df-container\">\n",
       "    <button class=\"colab-df-convert\" onclick=\"convertToInteractive('df-46c9456a-4d90-4b9c-9188-eff1bdd8f893')\"\n",
       "            title=\"Convert this dataframe to an interactive table.\"\n",
       "            style=\"display:none;\">\n",
       "\n",
       "  <svg xmlns=\"http://www.w3.org/2000/svg\" height=\"24px\" viewBox=\"0 -960 960 960\">\n",
       "    <path d=\"M120-120v-720h720v720H120Zm60-500h600v-160H180v160Zm220 220h160v-160H400v160Zm0 220h160v-160H400v160ZM180-400h160v-160H180v160Zm440 0h160v-160H620v160ZM180-180h160v-160H180v160Zm440 0h160v-160H620v160Z\"/>\n",
       "  </svg>\n",
       "    </button>\n",
       "\n",
       "  <style>\n",
       "    .colab-df-container {\n",
       "      display:flex;\n",
       "      gap: 12px;\n",
       "    }\n",
       "\n",
       "    .colab-df-convert {\n",
       "      background-color: #E8F0FE;\n",
       "      border: none;\n",
       "      border-radius: 50%;\n",
       "      cursor: pointer;\n",
       "      display: none;\n",
       "      fill: #1967D2;\n",
       "      height: 32px;\n",
       "      padding: 0 0 0 0;\n",
       "      width: 32px;\n",
       "    }\n",
       "\n",
       "    .colab-df-convert:hover {\n",
       "      background-color: #E2EBFA;\n",
       "      box-shadow: 0px 1px 2px rgba(60, 64, 67, 0.3), 0px 1px 3px 1px rgba(60, 64, 67, 0.15);\n",
       "      fill: #174EA6;\n",
       "    }\n",
       "\n",
       "    .colab-df-buttons div {\n",
       "      margin-bottom: 4px;\n",
       "    }\n",
       "\n",
       "    [theme=dark] .colab-df-convert {\n",
       "      background-color: #3B4455;\n",
       "      fill: #D2E3FC;\n",
       "    }\n",
       "\n",
       "    [theme=dark] .colab-df-convert:hover {\n",
       "      background-color: #434B5C;\n",
       "      box-shadow: 0px 1px 3px 1px rgba(0, 0, 0, 0.15);\n",
       "      filter: drop-shadow(0px 1px 2px rgba(0, 0, 0, 0.3));\n",
       "      fill: #FFFFFF;\n",
       "    }\n",
       "  </style>\n",
       "\n",
       "    <script>\n",
       "      const buttonEl =\n",
       "        document.querySelector('#df-46c9456a-4d90-4b9c-9188-eff1bdd8f893 button.colab-df-convert');\n",
       "      buttonEl.style.display =\n",
       "        google.colab.kernel.accessAllowed ? 'block' : 'none';\n",
       "\n",
       "      async function convertToInteractive(key) {\n",
       "        const element = document.querySelector('#df-46c9456a-4d90-4b9c-9188-eff1bdd8f893');\n",
       "        const dataTable =\n",
       "          await google.colab.kernel.invokeFunction('convertToInteractive',\n",
       "                                                    [key], {});\n",
       "        if (!dataTable) return;\n",
       "\n",
       "        const docLinkHtml = 'Like what you see? Visit the ' +\n",
       "          '<a target=\"_blank\" href=https://colab.research.google.com/notebooks/data_table.ipynb>data table notebook</a>'\n",
       "          + ' to learn more about interactive tables.';\n",
       "        element.innerHTML = '';\n",
       "        dataTable['output_type'] = 'display_data';\n",
       "        await google.colab.output.renderOutput(dataTable, element);\n",
       "        const docLink = document.createElement('div');\n",
       "        docLink.innerHTML = docLinkHtml;\n",
       "        element.appendChild(docLink);\n",
       "      }\n",
       "    </script>\n",
       "  </div>\n",
       "\n",
       "\n",
       "<div id=\"df-54ccdb42-d4c0-478a-ac91-d98307f8b276\">\n",
       "  <button class=\"colab-df-quickchart\" onclick=\"quickchart('df-54ccdb42-d4c0-478a-ac91-d98307f8b276')\"\n",
       "            title=\"Suggest charts\"\n",
       "            style=\"display:none;\">\n",
       "\n",
       "<svg xmlns=\"http://www.w3.org/2000/svg\" height=\"24px\"viewBox=\"0 0 24 24\"\n",
       "     width=\"24px\">\n",
       "    <g>\n",
       "        <path d=\"M19 3H5c-1.1 0-2 .9-2 2v14c0 1.1.9 2 2 2h14c1.1 0 2-.9 2-2V5c0-1.1-.9-2-2-2zM9 17H7v-7h2v7zm4 0h-2V7h2v10zm4 0h-2v-4h2v4z\"/>\n",
       "    </g>\n",
       "</svg>\n",
       "  </button>\n",
       "\n",
       "<style>\n",
       "  .colab-df-quickchart {\n",
       "      --bg-color: #E8F0FE;\n",
       "      --fill-color: #1967D2;\n",
       "      --hover-bg-color: #E2EBFA;\n",
       "      --hover-fill-color: #174EA6;\n",
       "      --disabled-fill-color: #AAA;\n",
       "      --disabled-bg-color: #DDD;\n",
       "  }\n",
       "\n",
       "  [theme=dark] .colab-df-quickchart {\n",
       "      --bg-color: #3B4455;\n",
       "      --fill-color: #D2E3FC;\n",
       "      --hover-bg-color: #434B5C;\n",
       "      --hover-fill-color: #FFFFFF;\n",
       "      --disabled-bg-color: #3B4455;\n",
       "      --disabled-fill-color: #666;\n",
       "  }\n",
       "\n",
       "  .colab-df-quickchart {\n",
       "    background-color: var(--bg-color);\n",
       "    border: none;\n",
       "    border-radius: 50%;\n",
       "    cursor: pointer;\n",
       "    display: none;\n",
       "    fill: var(--fill-color);\n",
       "    height: 32px;\n",
       "    padding: 0;\n",
       "    width: 32px;\n",
       "  }\n",
       "\n",
       "  .colab-df-quickchart:hover {\n",
       "    background-color: var(--hover-bg-color);\n",
       "    box-shadow: 0 1px 2px rgba(60, 64, 67, 0.3), 0 1px 3px 1px rgba(60, 64, 67, 0.15);\n",
       "    fill: var(--button-hover-fill-color);\n",
       "  }\n",
       "\n",
       "  .colab-df-quickchart-complete:disabled,\n",
       "  .colab-df-quickchart-complete:disabled:hover {\n",
       "    background-color: var(--disabled-bg-color);\n",
       "    fill: var(--disabled-fill-color);\n",
       "    box-shadow: none;\n",
       "  }\n",
       "\n",
       "  .colab-df-spinner {\n",
       "    border: 2px solid var(--fill-color);\n",
       "    border-color: transparent;\n",
       "    border-bottom-color: var(--fill-color);\n",
       "    animation:\n",
       "      spin 1s steps(1) infinite;\n",
       "  }\n",
       "\n",
       "  @keyframes spin {\n",
       "    0% {\n",
       "      border-color: transparent;\n",
       "      border-bottom-color: var(--fill-color);\n",
       "      border-left-color: var(--fill-color);\n",
       "    }\n",
       "    20% {\n",
       "      border-color: transparent;\n",
       "      border-left-color: var(--fill-color);\n",
       "      border-top-color: var(--fill-color);\n",
       "    }\n",
       "    30% {\n",
       "      border-color: transparent;\n",
       "      border-left-color: var(--fill-color);\n",
       "      border-top-color: var(--fill-color);\n",
       "      border-right-color: var(--fill-color);\n",
       "    }\n",
       "    40% {\n",
       "      border-color: transparent;\n",
       "      border-right-color: var(--fill-color);\n",
       "      border-top-color: var(--fill-color);\n",
       "    }\n",
       "    60% {\n",
       "      border-color: transparent;\n",
       "      border-right-color: var(--fill-color);\n",
       "    }\n",
       "    80% {\n",
       "      border-color: transparent;\n",
       "      border-right-color: var(--fill-color);\n",
       "      border-bottom-color: var(--fill-color);\n",
       "    }\n",
       "    90% {\n",
       "      border-color: transparent;\n",
       "      border-bottom-color: var(--fill-color);\n",
       "    }\n",
       "  }\n",
       "</style>\n",
       "\n",
       "  <script>\n",
       "    async function quickchart(key) {\n",
       "      const quickchartButtonEl =\n",
       "        document.querySelector('#' + key + ' button');\n",
       "      quickchartButtonEl.disabled = true;  // To prevent multiple clicks.\n",
       "      quickchartButtonEl.classList.add('colab-df-spinner');\n",
       "      try {\n",
       "        const charts = await google.colab.kernel.invokeFunction(\n",
       "            'suggestCharts', [key], {});\n",
       "      } catch (error) {\n",
       "        console.error('Error during call to suggestCharts:', error);\n",
       "      }\n",
       "      quickchartButtonEl.classList.remove('colab-df-spinner');\n",
       "      quickchartButtonEl.classList.add('colab-df-quickchart-complete');\n",
       "    }\n",
       "    (() => {\n",
       "      let quickchartButtonEl =\n",
       "        document.querySelector('#df-54ccdb42-d4c0-478a-ac91-d98307f8b276 button');\n",
       "      quickchartButtonEl.style.display =\n",
       "        google.colab.kernel.accessAllowed ? 'block' : 'none';\n",
       "    })();\n",
       "  </script>\n",
       "</div>\n",
       "\n",
       "  <div id=\"id_5d61bd01-8886-4ecb-97a5-bd3771a31e1d\">\n",
       "    <style>\n",
       "      .colab-df-generate {\n",
       "        background-color: #E8F0FE;\n",
       "        border: none;\n",
       "        border-radius: 50%;\n",
       "        cursor: pointer;\n",
       "        display: none;\n",
       "        fill: #1967D2;\n",
       "        height: 32px;\n",
       "        padding: 0 0 0 0;\n",
       "        width: 32px;\n",
       "      }\n",
       "\n",
       "      .colab-df-generate:hover {\n",
       "        background-color: #E2EBFA;\n",
       "        box-shadow: 0px 1px 2px rgba(60, 64, 67, 0.3), 0px 1px 3px 1px rgba(60, 64, 67, 0.15);\n",
       "        fill: #174EA6;\n",
       "      }\n",
       "\n",
       "      [theme=dark] .colab-df-generate {\n",
       "        background-color: #3B4455;\n",
       "        fill: #D2E3FC;\n",
       "      }\n",
       "\n",
       "      [theme=dark] .colab-df-generate:hover {\n",
       "        background-color: #434B5C;\n",
       "        box-shadow: 0px 1px 3px 1px rgba(0, 0, 0, 0.15);\n",
       "        filter: drop-shadow(0px 1px 2px rgba(0, 0, 0, 0.3));\n",
       "        fill: #FFFFFF;\n",
       "      }\n",
       "    </style>\n",
       "    <button class=\"colab-df-generate\" onclick=\"generateWithVariable('df')\"\n",
       "            title=\"Generate code using this dataframe.\"\n",
       "            style=\"display:none;\">\n",
       "\n",
       "  <svg xmlns=\"http://www.w3.org/2000/svg\" height=\"24px\"viewBox=\"0 0 24 24\"\n",
       "       width=\"24px\">\n",
       "    <path d=\"M7,19H8.4L18.45,9,17,7.55,7,17.6ZM5,21V16.75L18.45,3.32a2,2,0,0,1,2.83,0l1.4,1.43a1.91,1.91,0,0,1,.58,1.4,1.91,1.91,0,0,1-.58,1.4L9.25,21ZM18.45,9,17,7.55Zm-12,3A5.31,5.31,0,0,0,4.9,8.1,5.31,5.31,0,0,0,1,6.5,5.31,5.31,0,0,0,4.9,4.9,5.31,5.31,0,0,0,6.5,1,5.31,5.31,0,0,0,8.1,4.9,5.31,5.31,0,0,0,12,6.5,5.46,5.46,0,0,0,6.5,12Z\"/>\n",
       "  </svg>\n",
       "    </button>\n",
       "    <script>\n",
       "      (() => {\n",
       "      const buttonEl =\n",
       "        document.querySelector('#id_5d61bd01-8886-4ecb-97a5-bd3771a31e1d button.colab-df-generate');\n",
       "      buttonEl.style.display =\n",
       "        google.colab.kernel.accessAllowed ? 'block' : 'none';\n",
       "\n",
       "      buttonEl.onclick = () => {\n",
       "        google.colab.notebook.generateWithVariable('df');\n",
       "      }\n",
       "      })();\n",
       "    </script>\n",
       "  </div>\n",
       "\n",
       "    </div>\n",
       "  </div>\n"
      ],
      "text/plain": [
       "           a         b         c         d         e         f\n",
       "0   1.058084  1.866176  1.601115  1.708073  1.020584  7.254032\n",
       "1   1.969910  1.832443  1.212339  1.181825  1.183405  7.379921\n",
       "2   1.304242  1.524756  1.431945  1.291229  1.611853  7.164026\n",
       "3   1.139494  1.292145  1.366362  1.456070  1.785176  7.039246\n",
       "4   1.199674  1.514234  1.592415  1.046450  1.607545  6.960318\n",
       "5   1.170524  1.065052  1.948886  1.965632  1.808397  7.958491\n",
       "6   1.304614  1.097672  1.684233  1.440152  1.122038  6.648710\n",
       "7   1.495177  1.034389  1.909320  1.258780  1.662522  7.360188\n",
       "8   1.311711  1.520068  1.546710  1.184854  1.969585  7.532928\n",
       "9   1.775133  1.939499  1.894827  1.597900  1.921874  9.129233\n",
       "10  1.088493  1.195983  1.045227  1.325330  1.388677  6.043710\n",
       "11  1.271349  1.828738  1.356753  1.280935  1.542696  7.280470\n",
       "12  1.140924  1.802197  1.074551  1.986887  1.772245  7.776804\n",
       "13  1.198716  1.005522  1.815461  1.706857  1.729007  7.455564\n",
       "14  1.771270  1.074045  1.358466  1.115869  1.863103  7.182753\n",
       "15  1.623298  1.330898  1.063558  1.310982  1.325183  6.653920\n",
       "16  1.729606  1.637557  1.887213  1.472215  1.119594  7.846186\n",
       "17  1.713245  1.760785  1.561277  1.770967  1.493796  8.300070\n",
       "18  1.522733  1.427541  1.025419  1.107891  1.031429  6.115014\n",
       "19  1.636410  1.314356  1.508571  1.907566  1.249292  7.616196"
      ]
     },
     "execution_count": 194,
     "metadata": {},
     "output_type": "execute_result"
    }
   ],
   "source": [
    "df['f']=df.sum(axis=1)\n",
    "df"
   ]
  },
  {
   "cell_type": "code",
   "execution_count": 195,
   "metadata": {
    "colab": {
     "base_uri": "https://localhost:8080/",
     "height": 676
    },
    "id": "sDfnBKggeFrd",
    "outputId": "b1a0ebf6-afd6-4a42-d025-a7c38002b0c0"
   },
   "outputs": [
    {
     "data": {
      "application/vnd.google.colaboratory.intrinsic+json": {
       "summary": "{\n  \"name\": \"df\",\n  \"rows\": 20,\n  \"fields\": [\n    {\n      \"column\": \"a\",\n      \"properties\": {\n        \"dtype\": \"number\",\n        \"std\": 0.2768081380504058,\n        \"min\": 1.0580836121681996,\n        \"max\": 1.9699098521619942,\n        \"num_unique_values\": 20,\n        \"samples\": [\n          1.0580836121681996,\n          1.713244787222995,\n          1.623298126827558\n        ],\n        \"semantic_type\": \"\",\n        \"description\": \"\"\n      }\n    },\n    {\n      \"column\": \"b\",\n      \"properties\": {\n        \"dtype\": \"number\",\n        \"std\": 0.31449468509336714,\n        \"min\": 1.0055221171236024,\n        \"max\": 1.9394989415641892,\n        \"num_unique_values\": 20,\n        \"samples\": [\n          1.866176145774935,\n          1.7607850486168974,\n          1.3308980248526492\n        ],\n        \"semantic_type\": \"\",\n        \"description\": \"\"\n      }\n    },\n    {\n      \"column\": \"c\",\n      \"properties\": {\n        \"dtype\": \"number\",\n        \"std\": 0.3062296835581504,\n        \"min\": 1.025419126744095,\n        \"max\": 1.9488855372533331,\n        \"num_unique_values\": 20,\n        \"samples\": [\n          1.6011150117432087,\n          1.5612771975694963,\n          1.0635583502860237\n        ],\n        \"semantic_type\": \"\",\n        \"description\": \"\"\n      }\n    },\n    {\n      \"column\": \"d\",\n      \"properties\": {\n        \"dtype\": \"number\",\n        \"std\": 0.2973470892827051,\n        \"min\": 1.0464504127199978,\n        \"max\": 1.9868869366005173,\n        \"num_unique_values\": 20,\n        \"samples\": [\n          1.7080725777960455,\n          1.770967179954561,\n          1.3109823217156622\n        ],\n        \"semantic_type\": \"\",\n        \"description\": \"\"\n      }\n    },\n    {\n      \"column\": \"e\",\n      \"properties\": {\n        \"dtype\": \"number\",\n        \"std\": 0.3100524801567084,\n        \"min\": 1.0205844942958024,\n        \"max\": 1.9695846277645586,\n        \"num_unique_values\": 20,\n        \"samples\": [\n          1.0205844942958024,\n          1.4937955963643907,\n          1.325183322026747\n        ],\n        \"semantic_type\": \"\",\n        \"description\": \"\"\n      }\n    },\n    {\n      \"column\": \"f\",\n      \"properties\": {\n        \"dtype\": \"number\",\n        \"std\": 0.7075445574237211,\n        \"min\": 6.04371027383435,\n        \"max\": 9.129233329187155,\n        \"num_unique_values\": 20,\n        \"samples\": [\n          7.2540318417781915,\n          8.30006980972834,\n          6.653920145708639\n        ],\n        \"semantic_type\": \"\",\n        \"description\": \"\"\n      }\n    },\n    {\n      \"column\": \"g\",\n      \"properties\": {\n        \"dtype\": \"category\",\n        \"num_unique_values\": 2,\n        \"samples\": [\n          \"GT8\",\n          \"LT8\"\n        ],\n        \"semantic_type\": \"\",\n        \"description\": \"\"\n      }\n    }\n  ]\n}",
       "type": "dataframe",
       "variable_name": "df"
      },
      "text/html": [
       "\n",
       "  <div id=\"df-9038616d-390b-4963-9bd8-a7dcd4b3c8c9\" class=\"colab-df-container\">\n",
       "    <div>\n",
       "<style scoped>\n",
       "    .dataframe tbody tr th:only-of-type {\n",
       "        vertical-align: middle;\n",
       "    }\n",
       "\n",
       "    .dataframe tbody tr th {\n",
       "        vertical-align: top;\n",
       "    }\n",
       "\n",
       "    .dataframe thead th {\n",
       "        text-align: right;\n",
       "    }\n",
       "</style>\n",
       "<table border=\"1\" class=\"dataframe\">\n",
       "  <thead>\n",
       "    <tr style=\"text-align: right;\">\n",
       "      <th></th>\n",
       "      <th>a</th>\n",
       "      <th>b</th>\n",
       "      <th>c</th>\n",
       "      <th>d</th>\n",
       "      <th>e</th>\n",
       "      <th>f</th>\n",
       "      <th>g</th>\n",
       "    </tr>\n",
       "  </thead>\n",
       "  <tbody>\n",
       "    <tr>\n",
       "      <th>0</th>\n",
       "      <td>1.058084</td>\n",
       "      <td>1.866176</td>\n",
       "      <td>1.601115</td>\n",
       "      <td>1.708073</td>\n",
       "      <td>1.020584</td>\n",
       "      <td>7.254032</td>\n",
       "      <td>LT8</td>\n",
       "    </tr>\n",
       "    <tr>\n",
       "      <th>1</th>\n",
       "      <td>1.969910</td>\n",
       "      <td>1.832443</td>\n",
       "      <td>1.212339</td>\n",
       "      <td>1.181825</td>\n",
       "      <td>1.183405</td>\n",
       "      <td>7.379921</td>\n",
       "      <td>LT8</td>\n",
       "    </tr>\n",
       "    <tr>\n",
       "      <th>2</th>\n",
       "      <td>1.304242</td>\n",
       "      <td>1.524756</td>\n",
       "      <td>1.431945</td>\n",
       "      <td>1.291229</td>\n",
       "      <td>1.611853</td>\n",
       "      <td>7.164026</td>\n",
       "      <td>LT8</td>\n",
       "    </tr>\n",
       "    <tr>\n",
       "      <th>3</th>\n",
       "      <td>1.139494</td>\n",
       "      <td>1.292145</td>\n",
       "      <td>1.366362</td>\n",
       "      <td>1.456070</td>\n",
       "      <td>1.785176</td>\n",
       "      <td>7.039246</td>\n",
       "      <td>LT8</td>\n",
       "    </tr>\n",
       "    <tr>\n",
       "      <th>4</th>\n",
       "      <td>1.199674</td>\n",
       "      <td>1.514234</td>\n",
       "      <td>1.592415</td>\n",
       "      <td>1.046450</td>\n",
       "      <td>1.607545</td>\n",
       "      <td>6.960318</td>\n",
       "      <td>LT8</td>\n",
       "    </tr>\n",
       "    <tr>\n",
       "      <th>5</th>\n",
       "      <td>1.170524</td>\n",
       "      <td>1.065052</td>\n",
       "      <td>1.948886</td>\n",
       "      <td>1.965632</td>\n",
       "      <td>1.808397</td>\n",
       "      <td>7.958491</td>\n",
       "      <td>LT8</td>\n",
       "    </tr>\n",
       "    <tr>\n",
       "      <th>6</th>\n",
       "      <td>1.304614</td>\n",
       "      <td>1.097672</td>\n",
       "      <td>1.684233</td>\n",
       "      <td>1.440152</td>\n",
       "      <td>1.122038</td>\n",
       "      <td>6.648710</td>\n",
       "      <td>LT8</td>\n",
       "    </tr>\n",
       "    <tr>\n",
       "      <th>7</th>\n",
       "      <td>1.495177</td>\n",
       "      <td>1.034389</td>\n",
       "      <td>1.909320</td>\n",
       "      <td>1.258780</td>\n",
       "      <td>1.662522</td>\n",
       "      <td>7.360188</td>\n",
       "      <td>LT8</td>\n",
       "    </tr>\n",
       "    <tr>\n",
       "      <th>8</th>\n",
       "      <td>1.311711</td>\n",
       "      <td>1.520068</td>\n",
       "      <td>1.546710</td>\n",
       "      <td>1.184854</td>\n",
       "      <td>1.969585</td>\n",
       "      <td>7.532928</td>\n",
       "      <td>LT8</td>\n",
       "    </tr>\n",
       "    <tr>\n",
       "      <th>9</th>\n",
       "      <td>1.775133</td>\n",
       "      <td>1.939499</td>\n",
       "      <td>1.894827</td>\n",
       "      <td>1.597900</td>\n",
       "      <td>1.921874</td>\n",
       "      <td>9.129233</td>\n",
       "      <td>GT8</td>\n",
       "    </tr>\n",
       "    <tr>\n",
       "      <th>10</th>\n",
       "      <td>1.088493</td>\n",
       "      <td>1.195983</td>\n",
       "      <td>1.045227</td>\n",
       "      <td>1.325330</td>\n",
       "      <td>1.388677</td>\n",
       "      <td>6.043710</td>\n",
       "      <td>LT8</td>\n",
       "    </tr>\n",
       "    <tr>\n",
       "      <th>11</th>\n",
       "      <td>1.271349</td>\n",
       "      <td>1.828738</td>\n",
       "      <td>1.356753</td>\n",
       "      <td>1.280935</td>\n",
       "      <td>1.542696</td>\n",
       "      <td>7.280470</td>\n",
       "      <td>LT8</td>\n",
       "    </tr>\n",
       "    <tr>\n",
       "      <th>12</th>\n",
       "      <td>1.140924</td>\n",
       "      <td>1.802197</td>\n",
       "      <td>1.074551</td>\n",
       "      <td>1.986887</td>\n",
       "      <td>1.772245</td>\n",
       "      <td>7.776804</td>\n",
       "      <td>LT8</td>\n",
       "    </tr>\n",
       "    <tr>\n",
       "      <th>13</th>\n",
       "      <td>1.198716</td>\n",
       "      <td>1.005522</td>\n",
       "      <td>1.815461</td>\n",
       "      <td>1.706857</td>\n",
       "      <td>1.729007</td>\n",
       "      <td>7.455564</td>\n",
       "      <td>LT8</td>\n",
       "    </tr>\n",
       "    <tr>\n",
       "      <th>14</th>\n",
       "      <td>1.771270</td>\n",
       "      <td>1.074045</td>\n",
       "      <td>1.358466</td>\n",
       "      <td>1.115869</td>\n",
       "      <td>1.863103</td>\n",
       "      <td>7.182753</td>\n",
       "      <td>LT8</td>\n",
       "    </tr>\n",
       "    <tr>\n",
       "      <th>15</th>\n",
       "      <td>1.623298</td>\n",
       "      <td>1.330898</td>\n",
       "      <td>1.063558</td>\n",
       "      <td>1.310982</td>\n",
       "      <td>1.325183</td>\n",
       "      <td>6.653920</td>\n",
       "      <td>LT8</td>\n",
       "    </tr>\n",
       "    <tr>\n",
       "      <th>16</th>\n",
       "      <td>1.729606</td>\n",
       "      <td>1.637557</td>\n",
       "      <td>1.887213</td>\n",
       "      <td>1.472215</td>\n",
       "      <td>1.119594</td>\n",
       "      <td>7.846186</td>\n",
       "      <td>LT8</td>\n",
       "    </tr>\n",
       "    <tr>\n",
       "      <th>17</th>\n",
       "      <td>1.713245</td>\n",
       "      <td>1.760785</td>\n",
       "      <td>1.561277</td>\n",
       "      <td>1.770967</td>\n",
       "      <td>1.493796</td>\n",
       "      <td>8.300070</td>\n",
       "      <td>GT8</td>\n",
       "    </tr>\n",
       "    <tr>\n",
       "      <th>18</th>\n",
       "      <td>1.522733</td>\n",
       "      <td>1.427541</td>\n",
       "      <td>1.025419</td>\n",
       "      <td>1.107891</td>\n",
       "      <td>1.031429</td>\n",
       "      <td>6.115014</td>\n",
       "      <td>LT8</td>\n",
       "    </tr>\n",
       "    <tr>\n",
       "      <th>19</th>\n",
       "      <td>1.636410</td>\n",
       "      <td>1.314356</td>\n",
       "      <td>1.508571</td>\n",
       "      <td>1.907566</td>\n",
       "      <td>1.249292</td>\n",
       "      <td>7.616196</td>\n",
       "      <td>LT8</td>\n",
       "    </tr>\n",
       "  </tbody>\n",
       "</table>\n",
       "</div>\n",
       "    <div class=\"colab-df-buttons\">\n",
       "\n",
       "  <div class=\"colab-df-container\">\n",
       "    <button class=\"colab-df-convert\" onclick=\"convertToInteractive('df-9038616d-390b-4963-9bd8-a7dcd4b3c8c9')\"\n",
       "            title=\"Convert this dataframe to an interactive table.\"\n",
       "            style=\"display:none;\">\n",
       "\n",
       "  <svg xmlns=\"http://www.w3.org/2000/svg\" height=\"24px\" viewBox=\"0 -960 960 960\">\n",
       "    <path d=\"M120-120v-720h720v720H120Zm60-500h600v-160H180v160Zm220 220h160v-160H400v160Zm0 220h160v-160H400v160ZM180-400h160v-160H180v160Zm440 0h160v-160H620v160ZM180-180h160v-160H180v160Zm440 0h160v-160H620v160Z\"/>\n",
       "  </svg>\n",
       "    </button>\n",
       "\n",
       "  <style>\n",
       "    .colab-df-container {\n",
       "      display:flex;\n",
       "      gap: 12px;\n",
       "    }\n",
       "\n",
       "    .colab-df-convert {\n",
       "      background-color: #E8F0FE;\n",
       "      border: none;\n",
       "      border-radius: 50%;\n",
       "      cursor: pointer;\n",
       "      display: none;\n",
       "      fill: #1967D2;\n",
       "      height: 32px;\n",
       "      padding: 0 0 0 0;\n",
       "      width: 32px;\n",
       "    }\n",
       "\n",
       "    .colab-df-convert:hover {\n",
       "      background-color: #E2EBFA;\n",
       "      box-shadow: 0px 1px 2px rgba(60, 64, 67, 0.3), 0px 1px 3px 1px rgba(60, 64, 67, 0.15);\n",
       "      fill: #174EA6;\n",
       "    }\n",
       "\n",
       "    .colab-df-buttons div {\n",
       "      margin-bottom: 4px;\n",
       "    }\n",
       "\n",
       "    [theme=dark] .colab-df-convert {\n",
       "      background-color: #3B4455;\n",
       "      fill: #D2E3FC;\n",
       "    }\n",
       "\n",
       "    [theme=dark] .colab-df-convert:hover {\n",
       "      background-color: #434B5C;\n",
       "      box-shadow: 0px 1px 3px 1px rgba(0, 0, 0, 0.15);\n",
       "      filter: drop-shadow(0px 1px 2px rgba(0, 0, 0, 0.3));\n",
       "      fill: #FFFFFF;\n",
       "    }\n",
       "  </style>\n",
       "\n",
       "    <script>\n",
       "      const buttonEl =\n",
       "        document.querySelector('#df-9038616d-390b-4963-9bd8-a7dcd4b3c8c9 button.colab-df-convert');\n",
       "      buttonEl.style.display =\n",
       "        google.colab.kernel.accessAllowed ? 'block' : 'none';\n",
       "\n",
       "      async function convertToInteractive(key) {\n",
       "        const element = document.querySelector('#df-9038616d-390b-4963-9bd8-a7dcd4b3c8c9');\n",
       "        const dataTable =\n",
       "          await google.colab.kernel.invokeFunction('convertToInteractive',\n",
       "                                                    [key], {});\n",
       "        if (!dataTable) return;\n",
       "\n",
       "        const docLinkHtml = 'Like what you see? Visit the ' +\n",
       "          '<a target=\"_blank\" href=https://colab.research.google.com/notebooks/data_table.ipynb>data table notebook</a>'\n",
       "          + ' to learn more about interactive tables.';\n",
       "        element.innerHTML = '';\n",
       "        dataTable['output_type'] = 'display_data';\n",
       "        await google.colab.output.renderOutput(dataTable, element);\n",
       "        const docLink = document.createElement('div');\n",
       "        docLink.innerHTML = docLinkHtml;\n",
       "        element.appendChild(docLink);\n",
       "      }\n",
       "    </script>\n",
       "  </div>\n",
       "\n",
       "\n",
       "<div id=\"df-5db5f450-205c-4d6b-abcd-b5323483bc02\">\n",
       "  <button class=\"colab-df-quickchart\" onclick=\"quickchart('df-5db5f450-205c-4d6b-abcd-b5323483bc02')\"\n",
       "            title=\"Suggest charts\"\n",
       "            style=\"display:none;\">\n",
       "\n",
       "<svg xmlns=\"http://www.w3.org/2000/svg\" height=\"24px\"viewBox=\"0 0 24 24\"\n",
       "     width=\"24px\">\n",
       "    <g>\n",
       "        <path d=\"M19 3H5c-1.1 0-2 .9-2 2v14c0 1.1.9 2 2 2h14c1.1 0 2-.9 2-2V5c0-1.1-.9-2-2-2zM9 17H7v-7h2v7zm4 0h-2V7h2v10zm4 0h-2v-4h2v4z\"/>\n",
       "    </g>\n",
       "</svg>\n",
       "  </button>\n",
       "\n",
       "<style>\n",
       "  .colab-df-quickchart {\n",
       "      --bg-color: #E8F0FE;\n",
       "      --fill-color: #1967D2;\n",
       "      --hover-bg-color: #E2EBFA;\n",
       "      --hover-fill-color: #174EA6;\n",
       "      --disabled-fill-color: #AAA;\n",
       "      --disabled-bg-color: #DDD;\n",
       "  }\n",
       "\n",
       "  [theme=dark] .colab-df-quickchart {\n",
       "      --bg-color: #3B4455;\n",
       "      --fill-color: #D2E3FC;\n",
       "      --hover-bg-color: #434B5C;\n",
       "      --hover-fill-color: #FFFFFF;\n",
       "      --disabled-bg-color: #3B4455;\n",
       "      --disabled-fill-color: #666;\n",
       "  }\n",
       "\n",
       "  .colab-df-quickchart {\n",
       "    background-color: var(--bg-color);\n",
       "    border: none;\n",
       "    border-radius: 50%;\n",
       "    cursor: pointer;\n",
       "    display: none;\n",
       "    fill: var(--fill-color);\n",
       "    height: 32px;\n",
       "    padding: 0;\n",
       "    width: 32px;\n",
       "  }\n",
       "\n",
       "  .colab-df-quickchart:hover {\n",
       "    background-color: var(--hover-bg-color);\n",
       "    box-shadow: 0 1px 2px rgba(60, 64, 67, 0.3), 0 1px 3px 1px rgba(60, 64, 67, 0.15);\n",
       "    fill: var(--button-hover-fill-color);\n",
       "  }\n",
       "\n",
       "  .colab-df-quickchart-complete:disabled,\n",
       "  .colab-df-quickchart-complete:disabled:hover {\n",
       "    background-color: var(--disabled-bg-color);\n",
       "    fill: var(--disabled-fill-color);\n",
       "    box-shadow: none;\n",
       "  }\n",
       "\n",
       "  .colab-df-spinner {\n",
       "    border: 2px solid var(--fill-color);\n",
       "    border-color: transparent;\n",
       "    border-bottom-color: var(--fill-color);\n",
       "    animation:\n",
       "      spin 1s steps(1) infinite;\n",
       "  }\n",
       "\n",
       "  @keyframes spin {\n",
       "    0% {\n",
       "      border-color: transparent;\n",
       "      border-bottom-color: var(--fill-color);\n",
       "      border-left-color: var(--fill-color);\n",
       "    }\n",
       "    20% {\n",
       "      border-color: transparent;\n",
       "      border-left-color: var(--fill-color);\n",
       "      border-top-color: var(--fill-color);\n",
       "    }\n",
       "    30% {\n",
       "      border-color: transparent;\n",
       "      border-left-color: var(--fill-color);\n",
       "      border-top-color: var(--fill-color);\n",
       "      border-right-color: var(--fill-color);\n",
       "    }\n",
       "    40% {\n",
       "      border-color: transparent;\n",
       "      border-right-color: var(--fill-color);\n",
       "      border-top-color: var(--fill-color);\n",
       "    }\n",
       "    60% {\n",
       "      border-color: transparent;\n",
       "      border-right-color: var(--fill-color);\n",
       "    }\n",
       "    80% {\n",
       "      border-color: transparent;\n",
       "      border-right-color: var(--fill-color);\n",
       "      border-bottom-color: var(--fill-color);\n",
       "    }\n",
       "    90% {\n",
       "      border-color: transparent;\n",
       "      border-bottom-color: var(--fill-color);\n",
       "    }\n",
       "  }\n",
       "</style>\n",
       "\n",
       "  <script>\n",
       "    async function quickchart(key) {\n",
       "      const quickchartButtonEl =\n",
       "        document.querySelector('#' + key + ' button');\n",
       "      quickchartButtonEl.disabled = true;  // To prevent multiple clicks.\n",
       "      quickchartButtonEl.classList.add('colab-df-spinner');\n",
       "      try {\n",
       "        const charts = await google.colab.kernel.invokeFunction(\n",
       "            'suggestCharts', [key], {});\n",
       "      } catch (error) {\n",
       "        console.error('Error during call to suggestCharts:', error);\n",
       "      }\n",
       "      quickchartButtonEl.classList.remove('colab-df-spinner');\n",
       "      quickchartButtonEl.classList.add('colab-df-quickchart-complete');\n",
       "    }\n",
       "    (() => {\n",
       "      let quickchartButtonEl =\n",
       "        document.querySelector('#df-5db5f450-205c-4d6b-abcd-b5323483bc02 button');\n",
       "      quickchartButtonEl.style.display =\n",
       "        google.colab.kernel.accessAllowed ? 'block' : 'none';\n",
       "    })();\n",
       "  </script>\n",
       "</div>\n",
       "\n",
       "  <div id=\"id_da669dc9-6d4c-41ba-b098-afff8315a376\">\n",
       "    <style>\n",
       "      .colab-df-generate {\n",
       "        background-color: #E8F0FE;\n",
       "        border: none;\n",
       "        border-radius: 50%;\n",
       "        cursor: pointer;\n",
       "        display: none;\n",
       "        fill: #1967D2;\n",
       "        height: 32px;\n",
       "        padding: 0 0 0 0;\n",
       "        width: 32px;\n",
       "      }\n",
       "\n",
       "      .colab-df-generate:hover {\n",
       "        background-color: #E2EBFA;\n",
       "        box-shadow: 0px 1px 2px rgba(60, 64, 67, 0.3), 0px 1px 3px 1px rgba(60, 64, 67, 0.15);\n",
       "        fill: #174EA6;\n",
       "      }\n",
       "\n",
       "      [theme=dark] .colab-df-generate {\n",
       "        background-color: #3B4455;\n",
       "        fill: #D2E3FC;\n",
       "      }\n",
       "\n",
       "      [theme=dark] .colab-df-generate:hover {\n",
       "        background-color: #434B5C;\n",
       "        box-shadow: 0px 1px 3px 1px rgba(0, 0, 0, 0.15);\n",
       "        filter: drop-shadow(0px 1px 2px rgba(0, 0, 0, 0.3));\n",
       "        fill: #FFFFFF;\n",
       "      }\n",
       "    </style>\n",
       "    <button class=\"colab-df-generate\" onclick=\"generateWithVariable('df')\"\n",
       "            title=\"Generate code using this dataframe.\"\n",
       "            style=\"display:none;\">\n",
       "\n",
       "  <svg xmlns=\"http://www.w3.org/2000/svg\" height=\"24px\"viewBox=\"0 0 24 24\"\n",
       "       width=\"24px\">\n",
       "    <path d=\"M7,19H8.4L18.45,9,17,7.55,7,17.6ZM5,21V16.75L18.45,3.32a2,2,0,0,1,2.83,0l1.4,1.43a1.91,1.91,0,0,1,.58,1.4,1.91,1.91,0,0,1-.58,1.4L9.25,21ZM18.45,9,17,7.55Zm-12,3A5.31,5.31,0,0,0,4.9,8.1,5.31,5.31,0,0,0,1,6.5,5.31,5.31,0,0,0,4.9,4.9,5.31,5.31,0,0,0,6.5,1,5.31,5.31,0,0,0,8.1,4.9,5.31,5.31,0,0,0,12,6.5,5.46,5.46,0,0,0,6.5,12Z\"/>\n",
       "  </svg>\n",
       "    </button>\n",
       "    <script>\n",
       "      (() => {\n",
       "      const buttonEl =\n",
       "        document.querySelector('#id_da669dc9-6d4c-41ba-b098-afff8315a376 button.colab-df-generate');\n",
       "      buttonEl.style.display =\n",
       "        google.colab.kernel.accessAllowed ? 'block' : 'none';\n",
       "\n",
       "      buttonEl.onclick = () => {\n",
       "        google.colab.notebook.generateWithVariable('df');\n",
       "      }\n",
       "      })();\n",
       "    </script>\n",
       "  </div>\n",
       "\n",
       "    </div>\n",
       "  </div>\n"
      ],
      "text/plain": [
       "           a         b         c         d         e         f    g\n",
       "0   1.058084  1.866176  1.601115  1.708073  1.020584  7.254032  LT8\n",
       "1   1.969910  1.832443  1.212339  1.181825  1.183405  7.379921  LT8\n",
       "2   1.304242  1.524756  1.431945  1.291229  1.611853  7.164026  LT8\n",
       "3   1.139494  1.292145  1.366362  1.456070  1.785176  7.039246  LT8\n",
       "4   1.199674  1.514234  1.592415  1.046450  1.607545  6.960318  LT8\n",
       "5   1.170524  1.065052  1.948886  1.965632  1.808397  7.958491  LT8\n",
       "6   1.304614  1.097672  1.684233  1.440152  1.122038  6.648710  LT8\n",
       "7   1.495177  1.034389  1.909320  1.258780  1.662522  7.360188  LT8\n",
       "8   1.311711  1.520068  1.546710  1.184854  1.969585  7.532928  LT8\n",
       "9   1.775133  1.939499  1.894827  1.597900  1.921874  9.129233  GT8\n",
       "10  1.088493  1.195983  1.045227  1.325330  1.388677  6.043710  LT8\n",
       "11  1.271349  1.828738  1.356753  1.280935  1.542696  7.280470  LT8\n",
       "12  1.140924  1.802197  1.074551  1.986887  1.772245  7.776804  LT8\n",
       "13  1.198716  1.005522  1.815461  1.706857  1.729007  7.455564  LT8\n",
       "14  1.771270  1.074045  1.358466  1.115869  1.863103  7.182753  LT8\n",
       "15  1.623298  1.330898  1.063558  1.310982  1.325183  6.653920  LT8\n",
       "16  1.729606  1.637557  1.887213  1.472215  1.119594  7.846186  LT8\n",
       "17  1.713245  1.760785  1.561277  1.770967  1.493796  8.300070  GT8\n",
       "18  1.522733  1.427541  1.025419  1.107891  1.031429  6.115014  LT8\n",
       "19  1.636410  1.314356  1.508571  1.907566  1.249292  7.616196  LT8"
      ]
     },
     "execution_count": 195,
     "metadata": {},
     "output_type": "execute_result"
    }
   ],
   "source": [
    "df.loc[df['f']>=8,'g']='GT8'\n",
    "df.loc[df['f']<8,'g']='LT8'\n",
    "df"
   ]
  },
  {
   "cell_type": "code",
   "execution_count": 196,
   "metadata": {
    "colab": {
     "base_uri": "https://localhost:8080/"
    },
    "id": "UaKlIN5efb8Q",
    "outputId": "84c1f074-c618-4713-c98e-0d77f4bc3533"
   },
   "outputs": [
    {
     "name": "stdout",
     "output_type": "stream",
     "text": [
      "Standard deviation in row for LT8: 0.5389241212121814\n",
      "Standard deviation in row for GT8: 0.5863071473218319\n"
     ]
    }
   ],
   "source": [
    "sd_L = df.loc[df['g'] == 'LT8', 'f'].std()\n",
    "sd_G = df.loc[df['g'] == 'GT8', 'f'].std()\n",
    "\n",
    "print(\"Standard deviation in row for LT8:\",sd_L)\n",
    "print(\"Standard deviation in row for GT8:\",sd_G)"
   ]
  },
  {
   "cell_type": "markdown",
   "metadata": {
    "id": "5Y_QQDsLhQXh"
   },
   "source": [
    "#Q12"
   ]
  },
  {
   "cell_type": "code",
   "execution_count": 197,
   "metadata": {
    "colab": {
     "base_uri": "https://localhost:8080/"
    },
    "id": "T-jxh1PSf8e_",
    "outputId": "5742b46f-d23b-4eb2-8f85-ae8e4698cbd3"
   },
   "outputs": [
    {
     "data": {
      "text/plain": [
       "array([[1, 2, 3],\n",
       "       [4, 5, 6]])"
      ]
     },
     "execution_count": 197,
     "metadata": {},
     "output_type": "execute_result"
    }
   ],
   "source": [
    "a1=np.array([[1,2,3],[4,5,6]])\n",
    "a1"
   ]
  },
  {
   "cell_type": "code",
   "execution_count": 198,
   "metadata": {
    "colab": {
     "base_uri": "https://localhost:8080/"
    },
    "id": "mlJqEJ46h3An",
    "outputId": "210aecbe-9613-48a0-dd72-155fcc2a20ed"
   },
   "outputs": [
    {
     "data": {
      "text/plain": [
       "array([10, 20, 30])"
      ]
     },
     "execution_count": 198,
     "metadata": {},
     "output_type": "execute_result"
    }
   ],
   "source": [
    "a2=np.array([10,20,30])\n",
    "a2"
   ]
  },
  {
   "cell_type": "code",
   "execution_count": 199,
   "metadata": {
    "colab": {
     "base_uri": "https://localhost:8080/"
    },
    "id": "nTb7Mk25h-6J",
    "outputId": "923662b6-e59b-4d6e-c276-09e54e85dcbb"
   },
   "outputs": [
    {
     "data": {
      "text/plain": [
       "array([[11, 22, 33],\n",
       "       [14, 25, 36]])"
      ]
     },
     "execution_count": 199,
     "metadata": {},
     "output_type": "execute_result"
    }
   ],
   "source": [
    "a1+a2"
   ]
  },
  {
   "cell_type": "markdown",
   "metadata": {
    "id": "Hb-85OMfi9nM"
   },
   "source": [
    "# Q13"
   ]
  },
  {
   "cell_type": "code",
   "execution_count": 200,
   "metadata": {
    "id": "qPHzWpY6i_un"
   },
   "outputs": [],
   "source": [
    "def arg_min(arr):\n",
    "    min_idx = 0\n",
    "    min_val = arr[0]\n",
    "\n",
    "    for i in range(1, len(arr)):\n",
    "        if arr[i] < min_val:\n",
    "            min_val = arr[i]\n",
    "            min_idx = i\n",
    "\n",
    "    return min_idx"
   ]
  },
  {
   "cell_type": "code",
   "execution_count": 201,
   "metadata": {
    "colab": {
     "base_uri": "https://localhost:8080/"
    },
    "id": "OUJ-sAQVlDzA",
    "outputId": "7029d9cb-7728-476c-8094-5089e144f3ba"
   },
   "outputs": [
    {
     "data": {
      "text/plain": [
       "array([3, 6, 2, 5, 1, 9, 8, 4, 5, 3, 9, 6, 8, 6, 0, 0, 8, 8, 3, 8])"
      ]
     },
     "execution_count": 201,
     "metadata": {},
     "output_type": "execute_result"
    }
   ],
   "source": [
    "arr = np.random.randint(0,10,20)\n",
    "arr"
   ]
  },
  {
   "cell_type": "code",
   "execution_count": 202,
   "metadata": {
    "colab": {
     "base_uri": "https://localhost:8080/"
    },
    "id": "DhcdvffmlVTb",
    "outputId": "7c6c3ea8-58b0-47f2-b7d4-68eec01362c9"
   },
   "outputs": [
    {
     "data": {
      "text/plain": [
       "14"
      ]
     },
     "execution_count": 202,
     "metadata": {},
     "output_type": "execute_result"
    }
   ],
   "source": [
    "arg_min(arr)"
   ]
  },
  {
   "cell_type": "code",
   "execution_count": 203,
   "metadata": {
    "colab": {
     "base_uri": "https://localhost:8080/"
    },
    "id": "ChTHUyR0lZv_",
    "outputId": "405a772e-a6a8-43fe-a383-b601b7c39fb0"
   },
   "outputs": [
    {
     "data": {
      "text/plain": [
       "14"
      ]
     },
     "execution_count": 203,
     "metadata": {},
     "output_type": "execute_result"
    }
   ],
   "source": [
    "np.argmin(arr)"
   ]
  }
 ],
 "metadata": {
  "colab": {
   "provenance": []
  },
  "kernelspec": {
   "display_name": "Python 3 (ipykernel)",
   "language": "python",
   "name": "python3"
  },
  "language_info": {
   "codemirror_mode": {
    "name": "ipython",
    "version": 3
   },
   "file_extension": ".py",
   "mimetype": "text/x-python",
   "name": "python",
   "nbconvert_exporter": "python",
   "pygments_lexer": "ipython3",
   "version": "3.12.4"
  }
 },
 "nbformat": 4,
 "nbformat_minor": 4
}
